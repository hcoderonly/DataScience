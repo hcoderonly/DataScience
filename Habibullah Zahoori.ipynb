{
 "cells": [
  {
   "cell_type": "markdown",
   "metadata": {},
   "source": [
    "<center>\n",
    "    <img src=\"https://cf-courses-data.s3.us.cloud-object-storage.appdomain.cloud/IBMDeveloperSkillsNetwork-DS0105EN-SkillsNetwork/labs/Module2/images/SN_web_lightmode.png\" width=\"300\" alt=\"cognitiveclass.ai logo\">\n",
    "</center>\n"
   ]
  },
  {
   "cell_type": "markdown",
   "metadata": {},
   "source": [
    "#### Add your code below following the instructions given in the course\n"
   ]
  },
  {
   "cell_type": "markdown",
   "metadata": {
    "tags": []
   },
   "source": [
    "# notebook\n",
    "\n"
   ]
  },
  {
   "cell_type": "markdown",
   "metadata": {},
   "source": [
    "# introduction"
   ]
  },
  {
   "cell_type": "markdown",
   "metadata": {},
   "source": [
    "### Data Sience Languages\n",
    "    - Python\n",
    "    - Java\n",
    "    - Julia\n",
    "    - R\n"
   ]
  },
  {
   "cell_type": "code",
   "execution_count": null,
   "metadata": {},
   "outputs": [],
   "source": []
  },
  {
   "cell_type": "markdown",
   "metadata": {
    "tags": []
   },
   "source": [
    "### Data Sience Libraries\n",
    "    - Nympy\n",
    "    - Panda\n",
    "    - Matplotlib\n",
    "    - Seaborn\n",
    "    - Scikit-learn\n",
    "    - TensorFlow\n",
    "    - PyTorch"
   ]
  },
  {
   "cell_type": "markdown",
   "metadata": {
    "tags": []
   },
   "source": [
    "### Data Sience Tools\n",
    "    - Jupyter Notebooks\n",
    "    - R Studio\n",
    "    - Anaconda\n",
    "    - Apache Hadoop\n",
    "    - Apahce Spark\n",
    "    - Power BI\n",
    "    - CouchDB\n",
    "    - SQL\n",
    "    - Cassandra\n",
    "    - Mango DB\n",
    "    - KubeFlow\n",
    "    - Apache Airflow\n",
    "    - Apache Kafka\n",
    "    - NodeRed\n",
    "    - Nifi\n",
    "    - Kibana\n",
    "    - Apache Superset\n",
    "    - Tensor Flow Modules\n",
    "    - Model DB\n",
    "    - AI Fairness 360\n",
    "    - Apache Atlas\n",
    "    - Kylo\n",
    "    - Elastic Search\n",
    "    - Pixie Dust\n",
    "    - Jupyter\n",
    "    - Jupyter Labs\n",
    "    - Apache Zeppeline\n",
    "    - RStudio\n",
    "    - SPYDER\n",
    "    - Apache Flink\n",
    "    - Ray\n",
    "    - Informatica\n",
    "    - talend\n",
    "    - Watson Studio Desktop\n",
    "    - IBM Cognos\n",
    "    - Tableau\n",
    "    - SPSS\n"
   ]
  },
  {
   "cell_type": "code",
   "execution_count": 17,
   "metadata": {
    "tags": []
   },
   "outputs": [
    {
     "name": "stdout",
     "output_type": "stream",
     "text": [
      "Added Numbers are: 12\n",
      "Multiplied Numbers are: 20\n"
     ]
    }
   ],
   "source": [
    "first = 10\n",
    "second=2\n",
    "\n",
    "multiply = first*second\n",
    "add = first+second\n",
    "\n",
    "print (\"Added Numbers are:\", add)\n",
    "print(\"Multiplied Numbers are:\", multiply)"
   ]
  },
  {
   "cell_type": "markdown",
   "metadata": {},
   "source": [
    "**Code**<br/>\n",
    "> addition = 5 + 3 <br/>\n",
    "> print(\"Addition:\", addition)\n",
    "\n",
    "<br/>\n",
    "\n",
    "**console:**<br/>\n",
    "\n",
    "*Addition:8*\n",
    "\n",
    "**Code**<br/>\n",
    "> subtruction = 5 - 3 <br/>\n",
    "> print(\"Subtract:\", subtruction)\n",
    "\n",
    "<br/>\n",
    "\n",
    "**console:**<br/>\n",
    "\n",
    "*Subtruct:2*"
   ]
  },
  {
   "cell_type": "code",
   "execution_count": 12,
   "metadata": {
    "tags": []
   },
   "outputs": [
    {
     "name": "stdout",
     "output_type": "stream",
     "text": [
      "70  minutes are equal to 1.17  hours\n"
     ]
    }
   ],
   "source": [
    "minutes = 70\n",
    "hours = round(minutes/60,2)\n",
    "\n",
    "print(minutes,\" minutes are equal to\", hours,\" hours\")"
   ]
  },
  {
   "cell_type": "markdown",
   "metadata": {},
   "source": [
    "### Learning Objectives\n",
    "---\n",
    "    - Describe how to use the notebooks in JupyterLab.\n",
    "    - Describe how to work in a notebook session.\n",
    "    - Describe the basic Jupyter architecture.\n",
    "    - Describe how to work with kernels.\n",
    "    - Identify tools in Anaconda Jupyter environments.\n",
    "    - Describe cloud based Jupyter environments and their data science features.\n",
    "        "
   ]
  },
  {
   "cell_type": "markdown",
   "metadata": {
    "tags": []
   },
   "source": [
    "Author : Habib Z"
   ]
  },
  {
   "cell_type": "code",
   "execution_count": null,
   "metadata": {},
   "outputs": [],
   "source": []
  }
 ],
 "metadata": {
  "kernelspec": {
   "display_name": "Python",
   "language": "python",
   "name": "conda-env-python-py"
  },
  "language_info": {
   "codemirror_mode": {
    "name": "ipython",
    "version": 3
   },
   "file_extension": ".py",
   "mimetype": "text/x-python",
   "name": "python",
   "nbconvert_exporter": "python",
   "pygments_lexer": "ipython3",
   "version": "3.7.12"
  }
 },
 "nbformat": 4,
 "nbformat_minor": 4
}
